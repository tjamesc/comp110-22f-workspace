{
 "cells": [
  {
   "cell_type": "markdown",
   "metadata": {},
   "source": [
    "# Quantifying Shakespeare\n",
    "\n",
    "In this notebook we will:\n",
    "\n",
    "1. Read all of Shakespeare's works into a list of strings\n",
    "2. Count the frequencies of letters used\n",
    "3. Visualize the results of the frequencies\n",
    "\n",
    "Here's the [dataset](https://bit.ly/shakespeare-txt)"
   ]
  },
  {
   "cell_type": "code",
   "execution_count": 4,
   "metadata": {},
   "outputs": [
    {
     "data": {
      "text/plain": [
       "124438"
      ]
     },
     "execution_count": 4,
     "metadata": {},
     "output_type": "execute_result"
    }
   ],
   "source": [
    "# Read the lines into a list\n",
    "\n",
    "from io import TextIOWrapper\n",
    "\n",
    "def read_lines(filename: str) -> list[str]:\n",
    "    \"\"\"Read every line of filename into a list of its strings.\"\"\"\n",
    "    lines: list[str] = []\n",
    "    file_handle: TextIOWrapper = open(filename, \"r\")\n",
    "    for line in file_handle:\n",
    "        line = line.lower()\n",
    "        line = line.strip()\n",
    "        lines.append(line)\n",
    "    file_handle.close()\n",
    "    return lines\n",
    "\n",
    "\n",
    "# always start by opening the file and closing the file, fill out the middle after\n",
    "# strip method removes tabs and spaces from a string (\\n and \\t)\n",
    "\n",
    "# ./ references a file in the same directory with the name shakespeare.txt\n",
    "shakespeare_lines: list[str] = read_lines(\"./shakespeare.txt\")\n",
    "len(shakespeare_lines)"
   ]
  },
  {
   "cell_type": "code",
   "execution_count": 17,
   "metadata": {},
   "outputs": [
    {
     "data": {
      "text/plain": [
       "{'t': 329746,\n",
       " 'h': 236853,\n",
       " 'i': 253949,\n",
       " 's': 248959,\n",
       " 'e': 447148,\n",
       " 'x': 5292,\n",
       " 'f': 80507,\n",
       " 'l': 169996,\n",
       " 'p': 58451,\n",
       " 'r': 237828,\n",
       " 'n': 243240,\n",
       " 'd': 149443,\n",
       " 'b': 61943,\n",
       " 'y': 94360,\n",
       " 'o': 314559,\n",
       " 'j': 4778,\n",
       " 'c': 88163,\n",
       " 'g': 68193,\n",
       " 'u': 128938,\n",
       " 'a': 289126,\n",
       " 'w': 89383,\n",
       " 'm': 111438,\n",
       " 'k': 35404,\n",
       " 'v': 37566,\n",
       " 'z': 1631,\n",
       " 'q': 3582}"
      ]
     },
     "execution_count": 17,
     "metadata": {},
     "output_type": "execute_result"
    }
   ],
   "source": [
    "# Tally up characters\n",
    "\n",
    "# Goal: Define a function named \"tally\"\n",
    "# It takes 2 parameters: 1. A reference to a dict[str, int] 2. A str that refers to a key in the dictionary being tallied\n",
    "# Logic: If the str/key is in the dict, increase its value by one; otherwise, set its value to 1 in the dictionary\n",
    "# This a procedure, a function that returns nothing\n",
    "\n",
    "\n",
    "def tally(counts: dict[str, int], key: str) -> None:\n",
    "    \"\"\"Tallies the amount of times a string appears in a dictionary of strings.\"\"\"\n",
    "    if key in counts:\n",
    "        counts[key] += 1\n",
    "    else:\n",
    "        counts[key] = 1\n",
    "\n",
    "\n",
    "def count_letters(lines: list[str]) -> dict[str, int]:\n",
    "    \"\"\"Count the frequencies of all letters in lines.\"\"\"\n",
    "    counts: dict[str, int] = {}\n",
    "    for line in lines:\n",
    "        for char in line:\n",
    "            if char >= \"a\" and char <= \"z\":\n",
    "            # or \"if char.isalpha()\" to see if the character is an a-z character\n",
    "                tally(counts, char)\n",
    "    return counts\n",
    "\n",
    "\n",
    "shakespeare_letters: dict[str, int] = count_letters(shakespeare_lines)\n",
    "shakespeare_letters"
   ]
  },
  {
   "cell_type": "code",
   "execution_count": 25,
   "metadata": {},
   "outputs": [
    {
     "data": {
      "text/plain": [
       "[('a', 289126),\n",
       " ('b', 61943),\n",
       " ('c', 88163),\n",
       " ('d', 149443),\n",
       " ('e', 447148),\n",
       " ('f', 80507),\n",
       " ('g', 68193),\n",
       " ('h', 236853),\n",
       " ('i', 253949),\n",
       " ('j', 4778),\n",
       " ('k', 35404),\n",
       " ('l', 169996),\n",
       " ('m', 111438),\n",
       " ('n', 243240),\n",
       " ('o', 314559),\n",
       " ('p', 58451),\n",
       " ('q', 3582),\n",
       " ('r', 237828),\n",
       " ('s', 248959),\n",
       " ('t', 329746),\n",
       " ('u', 128938),\n",
       " ('v', 37566),\n",
       " ('w', 89383),\n",
       " ('x', 5292),\n",
       " ('y', 94360),\n",
       " ('z', 1631)]"
      ]
     },
     "execution_count": 25,
     "metadata": {},
     "output_type": "execute_result"
    }
   ],
   "source": [
    "items_in_dict: list[tuple[str, int]] = list(shakespeare_letters.items())\n",
    "# items() method accesses each key-value pair in a dictionary \n",
    "items_in_dict = sorted(items_in_dict)\n",
    "shakespeare_letters_sorted: dict[str, int] = dict(items_in_dict)\n",
    "items_in_dict"
   ]
  },
  {
   "cell_type": "code",
   "execution_count": 27,
   "metadata": {},
   "outputs": [
    {
     "data": {
      "image/png": "[encoded data removed]",
      "text/plain": [
       "<Figure size 640x480 with 1 Axes>"
      ]
     },
     "metadata": {},
     "output_type": "display_data"
    }
   ],
   "source": [
    "# Make a bar chart\n",
    "\n",
    "from matplotlib import pyplot\n",
    "\n",
    "pyplot.title(\"Frequencies of Letters in Shakespeare\")\n",
    "pyplot.xlabel(\"Letters\")\n",
    "pyplot.ylabel(\"Frequencies\")\n",
    "labels: list[str] = list(shakespeare_letters_sorted.keys())\n",
    "# takes the keys from a dictionary and uses the list constructor to form a list of the keys\n",
    "values: list[int] = list(shakespeare_letters_sorted.values())\n",
    "pyplot.bar(labels, values);"
   ]
  }
 ],
 "metadata": {
  "kernelspec": {
   "display_name": "Python 3.10.6 64-bit",
   "language": "python",
   "name": "python3"
  },
  "language_info": {
   "codemirror_mode": {
    "name": "ipython",
    "version": 3
   },
   "file_extension": ".py",
   "mimetype": "text/x-python",
   "name": "python",
   "nbconvert_exporter": "python",
   "pygments_lexer": "ipython3",
   "version": "3.10.6"
  },
  "orig_nbformat": 4,
  "vscode": {
   "interpreter": {
    "hash": "aee8b7b246df8f9039afb4144a1f6fd8d2ca17a180786b69acc140d282b71a49"
   }
  }
 },
 "nbformat": 4,
 "nbformat_minor": 2
}
